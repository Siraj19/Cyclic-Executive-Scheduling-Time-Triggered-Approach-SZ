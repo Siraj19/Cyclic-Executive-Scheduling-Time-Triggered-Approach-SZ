{
 "cells": [
  {
   "cell_type": "code",
   "execution_count": 3,
   "id": "29b4c084",
   "metadata": {},
   "outputs": [],
   "source": [
    "from math import gcd\n",
    "import math\n",
    "\n",
    "class TaskSet:\n",
    "    def __init__(self):\n",
    "        self.__tasks = []\n",
    "\n",
    "    def addTask(self, period, deadline, computeTime, phase):\n",
    "        self.__tasks.append({'period': period, 'deadline': deadline, 'computeTime': computeTime, 'phase': phase})\n",
    "\n",
    "    def removeTask(self, index):\n",
    "        del self.__tasks[index]\n",
    "\n",
    "    def getTask(self, index):\n",
    "        return self.__tasks[index]\n",
    "\n",
    "    def getAllTasks(self):\n",
    "        return self.__tasks\n",
    "\n",
    "    def size(self):\n",
    "        return len(self.__tasks)\n",
    "\n",
    "class CyclicExecutiveSchedule:\n",
    "    def __init__(self, task_set):\n",
    "        self.task_set = task_set\n",
    "        self.hyperperiod = self.compute_hyperperiod()\n",
    "        self.valid_frames = self.compute_valid_frames()\n",
    "        periods = [task['period'] for task in self.task_set.getAllTasks()]\n",
    "        compute_times = [task['computeTime'] for task in self.task_set.getAllTasks()]\n",
    "        self.utilization = 0\n",
    "        for i in range(len(compute_times)):\n",
    "            self.utilization += (compute_times[i] / periods[i])\n",
    "        if self.utilization>1:\n",
    "            print(\"Utilization is \"+str(self.utilization*100)+\" % and It cannot be scheduled.\")\n",
    "        \n",
    "        \n",
    "    def compute_hyperperiod(self):\n",
    "        periods = [task['period'] for task in self.task_set.getAllTasks()]\n",
    "        return math.lcm(*periods)\n",
    "\n",
    "    def compute_valid_frames(self):\n",
    "        periods = [task['period'] for task in self.task_set.getAllTasks()]\n",
    "        compute_times = [task['computeTime'] for task in self.task_set.getAllTasks()]\n",
    "\n",
    "        min_period = min(periods)\n",
    "        max_compute = max(compute_times)\n",
    "        self.valid_frames = []\n",
    "        print(\"Min period is: \"+str(min_period))\n",
    "        print(\"\\n\")\n",
    "        print(\"Max compute is :\"+str(max_compute))\n",
    "        print(\"\\n\")\n",
    "\n",
    "        for frame_size in range(max_compute, min_period+1):\n",
    "            if (frame_size >= max_compute)and(frame_size <= min_period)and(self.hyperperiod % frame_size == 0):\n",
    "                is_valid = True\n",
    "                for task in self.task_set.getAllTasks():\n",
    "                    period = task['period']\n",
    "                    deadline = task['deadline']\n",
    "                    gcd_val = gcd(period, frame_size)\n",
    "                    frame_gcd = 2 * frame_size - gcd_val\n",
    "                    if frame_gcd > deadline:\n",
    "                        is_valid = False\n",
    "                        break\n",
    "                    if is_valid:\n",
    "                        self.valid_frames.append(frame_size)\n",
    "        self.valid_frames = list(set(self.valid_frames))\n",
    "        return self.valid_frames\n"
   ]
  },
  {
   "cell_type": "code",
   "execution_count": 4,
   "id": "8fd9c9b3",
   "metadata": {},
   "outputs": [
    {
     "name": "stdout",
     "output_type": "stream",
     "text": [
      "Min period is: 5\n",
      "\n",
      "\n",
      "Max compute is :2\n",
      "\n",
      "\n",
      "Hyperperiod: 5\n",
      "Valid Frames: [5]\n"
     ]
    }
   ],
   "source": [
    "my_task_set = TaskSet()\n",
    "#my_task_set.addTask(period, deadline, compute time, phase)\n",
    "my_task_set.addTask(5, 5, 2, 0)\n",
    "my_task_set.addTask(5, 5, 1, 0)\n",
    "\n",
    "schedule = CyclicExecutiveSchedule(my_task_set)\n",
    "print(\"Hyperperiod:\", schedule.hyperperiod)\n",
    "print(\"Valid Frames:\", schedule.valid_frames)\n"
   ]
  },
  {
   "cell_type": "code",
   "execution_count": null,
   "id": "b2d6ddb4",
   "metadata": {},
   "outputs": [],
   "source": []
  }
 ],
 "metadata": {
  "kernelspec": {
   "display_name": "Python 3 (ipykernel)",
   "language": "python",
   "name": "python3"
  },
  "language_info": {
   "codemirror_mode": {
    "name": "ipython",
    "version": 3
   },
   "file_extension": ".py",
   "mimetype": "text/x-python",
   "name": "python",
   "nbconvert_exporter": "python",
   "pygments_lexer": "ipython3",
   "version": "3.9.12"
  }
 },
 "nbformat": 4,
 "nbformat_minor": 5
}
