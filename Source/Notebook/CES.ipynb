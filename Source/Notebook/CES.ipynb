{
 "cells": [
  {
   "cell_type": "code",
   "execution_count": 1,
   "id": "44aa8c08",
   "metadata": {},
   "outputs": [
    {
     "name": "stdout",
     "output_type": "stream",
     "text": [
      "Hyperperiod: 20\n"
     ]
    }
   ],
   "source": [
    "import math\n",
    "\n",
    "class TaskSet:\n",
    "    def __init__(self):\n",
    "        self.__tasks = []\n",
    "\n",
    "    def addTask(self, period, deadline, computeTime, phase):\n",
    "        self.__tasks.append({'period': period, 'deadline': deadline, 'computeTime': computeTime, 'phase': phase})\n",
    "\n",
    "    def removeTask(self, index):\n",
    "        del self.__tasks[index]\n",
    "\n",
    "    def getTask(self, index):\n",
    "        return self.__tasks[index]\n",
    "\n",
    "    def getAllTasks(self):\n",
    "        return self.__tasks\n",
    "\n",
    "    def size(self):\n",
    "        return len(self.__tasks)\n",
    "\n",
    "class CyclicExecutiveSchedule:\n",
    "    def __init__(self, task_set):\n",
    "        self.task_set = task_set\n",
    "        self.hyperperiod = self.compute_hyperperiod()\n",
    "\n",
    "    def compute_hyperperiod(self):\n",
    "        periods = [task['period'] for task in self.task_set.getAllTasks()]\n",
    "        return math.lcm(*periods)\n",
    "\n",
    "# Example usage\n",
    "my_task_set = TaskSet()\n",
    "my_task_set.addTask(5, 15, 2, 0)\n",
    "my_task_set.addTask(10, 30, 5, 0)\n",
    "my_task_set.addTask(20, 50, 10, 0)\n",
    "\n",
    "schedule = CyclicExecutiveSchedule(my_task_set)\n",
    "hyperperiod = schedule.compute_hyperperiod()\n",
    "\n",
    "print(\"Hyperperiod:\", hyperperiod)  # Output: Hyperperiod: 60"
   ]
  },
  {
   "cell_type": "code",
   "execution_count": null,
   "id": "c6589e67",
   "metadata": {},
   "outputs": [],
   "source": []
  }
 ],
 "metadata": {
  "kernelspec": {
   "display_name": "Python 3 (ipykernel)",
   "language": "python",
   "name": "python3"
  },
  "language_info": {
   "codemirror_mode": {
    "name": "ipython",
    "version": 3
   },
   "file_extension": ".py",
   "mimetype": "text/x-python",
   "name": "python",
   "nbconvert_exporter": "python",
   "pygments_lexer": "ipython3",
   "version": "3.9.12"
  }
 },
 "nbformat": 4,
 "nbformat_minor": 5
}
